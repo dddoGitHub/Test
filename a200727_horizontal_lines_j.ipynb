{
  "nbformat": 4,
  "nbformat_minor": 0,
  "metadata": {
    "colab": {
      "name": "a200727_horizontal_lines_j",
      "provenance": [],
      "authorship_tag": "ABX9TyMOBa5P9jMfX48u7KsU4yvX",
      "include_colab_link": true
    },
    "kernelspec": {
      "name": "python3",
      "display_name": "Python 3"
    }
  },
  "cells": [
    {
      "cell_type": "markdown",
      "metadata": {
        "id": "view-in-github",
        "colab_type": "text"
      },
      "source": [
        "<a href=\"https://colab.research.google.com/github/dddoGitHub/Test/blob/master/a200727_horizontal_lines_j.ipynb\" target=\"_parent\"><img src=\"https://colab.research.google.com/assets/colab-badge.svg\" alt=\"Open In Colab\"/></a>"
      ]
    },
    {
      "cell_type": "markdown",
      "metadata": {
        "id": "sGKlaRViDUrf",
        "colab_type": "text"
      },
      "source": [
        "# 日本語のテキストのハイフンやマイナスなど紛らわしい横線を区別する関数を定義。"
      ]
    },
    {
      "cell_type": "markdown",
      "metadata": {
        "id": "0oq85ZvWDaR8",
        "colab_type": "text"
      },
      "source": [
        "2020.07.09 dddo\n",
        "2020.07.26 dddo 修正(def h_line_jから生のPythonの対話モードでエラーとなる空行を削除、Rename)"
      ]
    },
    {
      "cell_type": "markdown",
      "metadata": {
        "id": "1MZuFiD4D-Gg",
        "colab_type": "text"
      },
      "source": [
        "# 関数定義"
      ]
    },
    {
      "cell_type": "code",
      "metadata": {
        "id": "wc82yLfHtG-3",
        "colab_type": "code",
        "colab": {}
      },
      "source": [
        "def h_line_j(sr, so=False):\n",
        "    \"\"\"Identify the horizontal lines in Japanese.\n",
        "    \n",
        "    日本語のテキストのハイフンやマイナスなど紛らわしい横線を区別する関数を定義。\n",
        "    引数の\n",
        "        srはチェック対象の入力文字列。\n",
        "        soは結果の後に入力文字列を表示するか否か(デフォルト・省略時はoff)\n",
        "    \"\"\"\n",
        "    \n",
        "    # 辞書型 (dictionary)のオブジェクトにキー=記号、値=名称で登録\n",
        "    \n",
        "    cdic = {\n",
        "    '－':'全角ハイフンマイナス',\n",
        "    '-':'半角ハイフンマイナス',\n",
        "    '‐':'全角ハイフン',\n",
        "    '−':'全角マイナス',\n",
        "    '‒':'フィギュアダッシュ',\n",
        "    '—':'全角ダッシュ',\n",
        "    '–':'二分ダッシュ',\n",
        "    '―':'ホリゾンタルバー',\n",
        "    'ー':'全角長音',\n",
        "    'ｰ':'半角長音',\n",
        "    '─':'罫線',\n",
        "    '━':'罫線',\n",
        "    '一':'いち'\n",
        "    }\n",
        "    l = 0              # 行数カウンタ\n",
        "    c = 0              # 文字桁数カウンタ\n",
        "    for char in sr:\n",
        "        if char in cdic:    # 対象文字が辞書にあれば、行・桁・名称・記号を表示\n",
        "            print('Line:', l+1,\n",
        "                  'Chr:', c+1,\n",
        "                  'is', cdic[char],\n",
        "                  char\n",
        "                 )\n",
        "        c = c + 1            # 桁数を増やす\n",
        "        if char == '\\n':    # 対象の文字が改行なら\n",
        "            l = l + 1            # 行数カウンタを増やし\n",
        "            c = 0                # 桁数カウンタを0に\n",
        "    if so:                   # 入力文字列を表示するか否か\n",
        "        print()\n",
        "        print(sr)"
      ],
      "execution_count": null,
      "outputs": []
    },
    {
      "cell_type": "markdown",
      "metadata": {
        "id": "nQBFR5lBDzSz",
        "colab_type": "text"
      },
      "source": [
        "## いろは唄に13種の横棒を追加した文字列を作成"
      ]
    },
    {
      "cell_type": "code",
      "metadata": {
        "id": "JuN95Bh7tIxv",
        "colab_type": "code",
        "colab": {}
      },
      "source": [
        "sr = \"\"\"\\\n",
        "いろーはにほへ━と　ちりぬ—るを\n",
        "わ‒かよｰたれそ　つねなら–む\n",
        "うゐのおく-やま　け‐ふこえ一て\n",
        "あさき―ゆめみ−し　ゑひ－も─せす\n",
        "\"\"\""
      ],
      "execution_count": null,
      "outputs": []
    },
    {
      "cell_type": "code",
      "metadata": {
        "id": "XlRcXPRatOVd",
        "colab_type": "code",
        "colab": {
          "base_uri": "https://localhost:8080/",
          "height": 34
        },
        "outputId": "4bcdf578-b518-4d76-9ab2-e59efdc54d16"
      },
      "source": [
        "len(sr)    # 変数 SR の文字数を確認"
      ],
      "execution_count": null,
      "outputs": [
        {
          "output_type": "execute_result",
          "data": {
            "text/plain": [
              "68"
            ]
          },
          "metadata": {
            "tags": []
          },
          "execution_count": 13
        }
      ]
    },
    {
      "cell_type": "code",
      "metadata": {
        "id": "ZM46OiPK69-g",
        "colab_type": "code",
        "colab": {
          "base_uri": "https://localhost:8080/",
          "height": 340
        },
        "outputId": "0bedfece-1d88-435b-bb70-fd879c46f1ea"
      },
      "source": [
        "h_line_j(sr, True)    # 第2引数がTrueなら最後に元の文字列を出力"
      ],
      "execution_count": null,
      "outputs": [
        {
          "output_type": "stream",
          "text": [
            "Line: 1 Chr: 3 is 全角長音 ー\n",
            "Line: 1 Chr: 8 is 罫線 ━\n",
            "Line: 1 Chr: 14 is 全角ダッシュ —\n",
            "Line: 2 Chr: 2 is フィギュアダッシュ ‒\n",
            "Line: 2 Chr: 5 is 半角長音 ｰ\n",
            "Line: 2 Chr: 14 is 二分ダッシュ –\n",
            "Line: 3 Chr: 6 is 半角ハイフンマイナス -\n",
            "Line: 3 Chr: 11 is 全角ハイフン ‐\n",
            "Line: 3 Chr: 15 is いち 一\n",
            "Line: 4 Chr: 4 is ホリゾンタルバー ―\n",
            "Line: 4 Chr: 8 is 全角マイナス −\n",
            "Line: 4 Chr: 13 is 全角ハイフンマイナス －\n",
            "Line: 4 Chr: 15 is 罫線 ─\n",
            "\n",
            "いろーはにほへ━と　ちりぬ—るを\n",
            "わ‒かよｰたれそ　つねなら–む\n",
            "うゐのおく-やま　け‐ふこえ一て\n",
            "あさき―ゆめみ−し　ゑひ－も─せす\n",
            "\n"
          ],
          "name": "stdout"
        }
      ]
    },
    {
      "cell_type": "markdown",
      "metadata": {
        "id": "OfjB-Nk3Ee4j",
        "colab_type": "text"
      },
      "source": [
        "## 13種の横棒が混入した100文字改行なしの文字列を作成\n",
        "(行末の『\\』は改行なし)"
      ]
    },
    {
      "cell_type": "code",
      "metadata": {
        "id": "v65byJGa7AI0",
        "colab_type": "code",
        "colab": {}
      },
      "source": [
        "s = \"\"\"\\\n",
        "あいうえおかーくけこさしすせ━たちつてとなに—ねのはひふへほま‒むめもやｰゆえよわ–うえをんが-ぐげ\\\n",
        "あい‐えおかきくけ一さしすせそたち―てとなにぬね−はひふへほまみ－めもやいゆえ─わいうえをんがぎぐげ\\\n",
        "\"\"\""
      ],
      "execution_count": null,
      "outputs": []
    },
    {
      "cell_type": "code",
      "metadata": {
        "id": "TwiVuZaJElbB",
        "colab_type": "code",
        "colab": {
          "base_uri": "https://localhost:8080/",
          "height": 238
        },
        "outputId": "dc382507-45e6-49f2-8f5b-2babe32059bc"
      },
      "source": [
        "h_line_j(s)"
      ],
      "execution_count": null,
      "outputs": [
        {
          "output_type": "stream",
          "text": [
            "Line: 1 Chr: 7 is 全角長音 ー\n",
            "Line: 1 Chr: 15 is 罫線 ━\n",
            "Line: 1 Chr: 23 is 全角ダッシュ —\n",
            "Line: 1 Chr: 32 is フィギュアダッシュ ‒\n",
            "Line: 1 Chr: 37 is 半角長音 ｰ\n",
            "Line: 1 Chr: 42 is 二分ダッシュ –\n",
            "Line: 1 Chr: 48 is 半角ハイフンマイナス -\n",
            "Line: 1 Chr: 53 is 全角ハイフン ‐\n",
            "Line: 1 Chr: 60 is いち 一\n",
            "Line: 1 Chr: 68 is ホリゾンタルバー ―\n",
            "Line: 1 Chr: 75 is 全角マイナス −\n",
            "Line: 1 Chr: 83 is 全角ハイフンマイナス －\n",
            "Line: 1 Chr: 90 is 罫線 ─\n"
          ],
          "name": "stdout"
        }
      ]
    },
    {
      "cell_type": "markdown",
      "metadata": {
        "id": "Eapi605-FRjD",
        "colab_type": "text"
      },
      "source": [
        "## 上記文字列から2の16乗=65536文字以上改行なしの文字列を作成\n",
        "(長い段落=改行なしでも大丈夫)"
      ]
    },
    {
      "cell_type": "code",
      "metadata": {
        "id": "HDlX7P1ZFPav",
        "colab_type": "code",
        "colab": {}
      },
      "source": [
        "sm = s*656"
      ],
      "execution_count": null,
      "outputs": []
    },
    {
      "cell_type": "code",
      "metadata": {
        "id": "BA790ByvFcby",
        "colab_type": "code",
        "colab": {
          "base_uri": "https://localhost:8080/",
          "height": 34
        },
        "outputId": "8eb3950c-47e9-47a0-ee9c-cb05b4f329a7"
      },
      "source": [
        "len(sm)"
      ],
      "execution_count": null,
      "outputs": [
        {
          "output_type": "execute_result",
          "data": {
            "text/plain": [
              "65600"
            ]
          },
          "metadata": {
            "tags": []
          },
          "execution_count": 6
        }
      ]
    },
    {
      "cell_type": "code",
      "metadata": {
        "id": "EqkPL75CFfgT",
        "colab_type": "code",
        "colab": {
          "base_uri": "https://localhost:8080/",
          "height": 238
        },
        "outputId": "1cab5f0a-ef5a-4b9f-84c1-6c22c6a06b71"
      },
      "source": [
        "h_line_j(sr) # 実際にはsmを。大量に出力されるのでここではsrを。"
      ],
      "execution_count": null,
      "outputs": [
        {
          "output_type": "stream",
          "text": [
            "Line: 1 Chr: 3 is 全角長音 ー\n",
            "Line: 1 Chr: 8 is 罫線 ━\n",
            "Line: 1 Chr: 14 is 全角ダッシュ —\n",
            "Line: 2 Chr: 2 is フィギュアダッシュ ‒\n",
            "Line: 2 Chr: 5 is 半角長音 ｰ\n",
            "Line: 2 Chr: 14 is 二分ダッシュ –\n",
            "Line: 3 Chr: 6 is 半角ハイフンマイナス -\n",
            "Line: 3 Chr: 11 is 全角ハイフン ‐\n",
            "Line: 3 Chr: 15 is いち 一\n",
            "Line: 4 Chr: 4 is ホリゾンタルバー ―\n",
            "Line: 4 Chr: 8 is 全角マイナス −\n",
            "Line: 4 Chr: 13 is 全角ハイフンマイナス －\n",
            "Line: 4 Chr: 15 is 罫線 ─\n"
          ],
          "name": "stdout"
        }
      ]
    }
  ]
}